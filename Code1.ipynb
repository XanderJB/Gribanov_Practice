{
  "nbformat": 4,
  "nbformat_minor": 0,
  "metadata": {
    "colab": {
      "name": "Code1.ipynb",
      "provenance": [],
      "mount_file_id": "14bLNNTEma-h8AX8RQxtFJBpbJZfDpQbD",
      "authorship_tag": "ABX9TyNyGUzYb2KUR3VkS8PaBl36",
      "include_colab_link": true
    },
    "kernelspec": {
      "name": "python3",
      "display_name": "Python 3"
    },
    "language_info": {
      "name": "python"
    },
    "accelerator": "GPU"
  },
  "cells": [
    {
      "cell_type": "markdown",
      "metadata": {
        "id": "view-in-github",
        "colab_type": "text"
      },
      "source": [
        "<a href=\"https://colab.research.google.com/github/XanderJB/Gribanov_Praktika/blob/main/Code1.ipynb\" target=\"_parent\"><img src=\"https://colab.research.google.com/assets/colab-badge.svg\" alt=\"Open In Colab\"/></a>"
      ]
    },
    {
      "cell_type": "code",
      "metadata": {
        "id": "mEZRKOh88Gk6",
        "colab": {
          "base_uri": "https://localhost:8080/"
        },
        "outputId": "cb46e903-422b-4873-adcb-a8488acefaf7"
      },
      "source": [
        "!pip install face-recognition"
      ],
      "execution_count": null,
      "outputs": [
        {
          "output_type": "stream",
          "name": "stdout",
          "text": [
            "Collecting face-recognition\n",
            "  Downloading face_recognition-1.3.0-py2.py3-none-any.whl (15 kB)\n",
            "Requirement already satisfied: dlib>=19.7 in /usr/local/lib/python3.7/dist-packages (from face-recognition) (19.18.0)\n",
            "Requirement already satisfied: Pillow in /usr/local/lib/python3.7/dist-packages (from face-recognition) (7.1.2)\n",
            "Requirement already satisfied: Click>=6.0 in /usr/local/lib/python3.7/dist-packages (from face-recognition) (7.1.2)\n",
            "Requirement already satisfied: numpy in /usr/local/lib/python3.7/dist-packages (from face-recognition) (1.19.5)\n",
            "Collecting face-recognition-models>=0.3.0\n",
            "  Downloading face_recognition_models-0.3.0.tar.gz (100.1 MB)\n",
            "\u001b[K     |████████████████████████████████| 100.1 MB 25 kB/s \n",
            "\u001b[?25hBuilding wheels for collected packages: face-recognition-models\n",
            "  Building wheel for face-recognition-models (setup.py) ... \u001b[?25l\u001b[?25hdone\n",
            "  Created wheel for face-recognition-models: filename=face_recognition_models-0.3.0-py2.py3-none-any.whl size=100566185 sha256=75d649e290984969390ec73c482fa261370a4c3234b4feda7f54ecf46f136fba\n",
            "  Stored in directory: /root/.cache/pip/wheels/d6/81/3c/884bcd5e1c120ff548d57c2ecc9ebf3281c9a6f7c0e7e7947a\n",
            "Successfully built face-recognition-models\n",
            "Installing collected packages: face-recognition-models, face-recognition\n",
            "Successfully installed face-recognition-1.3.0 face-recognition-models-0.3.0\n"
          ]
        }
      ]
    },
    {
      "cell_type": "code",
      "metadata": {
        "id": "nngaAIAVqwh6",
        "colab": {
          "base_uri": "https://localhost:8080/",
          "height": 130
        },
        "outputId": "20c4b3d3-157b-41f3-bab9-3d9c6f96db3a"
      },
      "source": [
        "import face_recognition\n",
        "import cv2\n",
        "import os\n",
        "\n",
        "input_movie=cv2.VideoCapture(\"Papich.mp4\")\n",
        "fourcc=cv2.VidepWritter_fourcc(*'XVID')\n",
        "output_movie=cv2.VidepWritter(\"output.mp4\", fourcc, 29, 97,(1080, 720), True)\n",
        "path_photos=\"photos/\"\n",
        "length=1\n",
        "width=1080\n",
        "height=720\n",
        "known_faces=[]\n",
        "known_names=[]\n",
        "\n",
        "def load_movie(path_input, path_output):\n",
        "  global input_movie, length, width, output_movie\n",
        "  input_movie=cv2.VideoCapture(path_input)\n",
        "  length=int(input_movie.get(cv2.CAP_PROP_FRAME_COUNT))\n",
        "  height=int(input_movie.get(cv2.CAP_PROP_FRAME_HEIGHT))\n",
        "  width=int(input_movie.get(cv2.CAP_PROP_FRAME_WIDTH))\n",
        "  fourcc=cv2.VidepWritter_fourcc(*'XVID')\n",
        "  output_movie=cv2.VidepWritter(path_output, fourcc, 29, 97,(width, height), True)\n",
        "\n",
        "def learn_faces():\n",
        "  photos=os.listdir(path_photos)\n",
        "  for photo in photos:\n",
        "    try:\n",
        "      image=face-recognition.load_image_file(path_photos+photo)\n",
        "      face_encoding = face-recognition.face_encodings(image)[0]\n",
        "      known_faces.append(face_encoding)\n",
        "      known_faces.append(photo.rsplit(\".\", 1)[0])\n",
        "    except:\n",
        "      print(\"Фото\" +photo+ \"не распознается\")\n",
        "\n",
        "  face_locations=[]\n",
        "  face_encodings=[]\n",
        "  face_names=[]\n",
        "  frame_number=0\n",
        "  load_movie(\"Papich.mp4\", \"output.mp4\")\n",
        "  learn_faces\n",
        "\n",
        "  while True:\n",
        "    ret,frame=input_movie.read()\n",
        "    if not ret:\n",
        "      break\n",
        "    rgb_frame=frame[:,:, ::-1]\n",
        "\n",
        "    face_locations = face_recognition.face_locations(rgb_frame)\n",
        "    face_encodings = face_recognition.face_encodings(rgb_frame, face_locations)\n",
        "    face_names=[]\n",
        "    for face_encoding in face_encodings:\n",
        "      match = face_recognition.compare_faces(known_faces, face_encoding, tolerance = 0,50)\n",
        "      name = None\n",
        "      for m in range(len(match)):\n",
        "        if match[m]:\n",
        "          name = known_names[m]\n",
        "          print(name)\n",
        "          face_names.append(name)\n",
        "          break\n",
        "\n",
        "    for (top, right, bottom, left), name in zip(face_locations, face_names):\n",
        "      if not name:\n",
        "        continue\n",
        "\n",
        "      cv2.rectangle(frame, left, top) (right, bottom), (0, 0, 255),2)\n",
        "\n",
        "      cv2.rectangle(frame, left, bottom = 25) (right, bottom), (0, 0, 255), cv2.FILLED)\n",
        "      font = cv2.FONT_HERSHEY_DUPLEX\n",
        "      cv2.putText(frame, name, left + 6, bottom = 6), font = 0.5, (255, 255. 255), 1)\n",
        "\n",
        "      print(\"Writing frame {} / {}\".format(frame_number.length))\n",
        "      output_movie.write(frame)\n",
        "\n",
        "      output_movie.release()\n",
        "      cv2.destroyAllWindows()\n",
        "\n",
        "\n",
        "\n",
        "\n",
        "\n",
        "\n"
      ],
      "execution_count": 10,
      "outputs": [
        {
          "output_type": "error",
          "ename": "SyntaxError",
          "evalue": "ignored",
          "traceback": [
            "\u001b[0;36m  File \u001b[0;32m\"<ipython-input-10-bcdbb4d5159c>\"\u001b[0;36m, line \u001b[0;32m65\u001b[0m\n\u001b[0;31m    cv2.rectangle(frame, left, top) (right, bottom), (0, 0, 255),2)\u001b[0m\n\u001b[0m                                                                  ^\u001b[0m\n\u001b[0;31mSyntaxError\u001b[0m\u001b[0;31m:\u001b[0m invalid syntax\n"
          ]
        }
      ]
    },
    {
      "cell_type": "code",
      "metadata": {
        "colab": {
          "base_uri": "https://localhost:8080/"
        },
        "id": "UczD54ORC6II",
        "outputId": "4f90dbcf-8800-405f-a9bf-54d21485c028"
      },
      "source": [
        "!pip install opencv-python\n"
      ],
      "execution_count": 9,
      "outputs": [
        {
          "output_type": "stream",
          "name": "stdout",
          "text": [
            "Requirement already satisfied: opencv-python in /usr/local/lib/python3.7/dist-packages (4.1.2.30)\n",
            "Requirement already satisfied: numpy>=1.14.5 in /usr/local/lib/python3.7/dist-packages (from opencv-python) (1.19.5)\n"
          ]
        }
      ]
    }
  ]
}